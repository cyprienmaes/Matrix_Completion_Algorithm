{
  "nbformat": 4,
  "nbformat_minor": 0,
  "metadata": {
    "colab": {
      "name": "Untitled",
      "provenance": [],
      "collapsed_sections": []
    },
    "kernelspec": {
      "name": "python3",
      "display_name": "Python 3"
    }
  },
  "cells": [
    {
      "cell_type": "code",
      "metadata": {
        "id": "-UwhM-ZIhrRC",
        "colab_type": "code",
        "colab": {}
      },
      "source": [
        "\"\"\"\n",
        "\n",
        "  This code performs matrix completion based on Collaborative Filtering. The data set\n",
        "  used is the MovieLens small dataset.\n",
        "\n",
        "  This code has been modified baed on the lab_3 of the course DL&BDP given at the VUB.\n",
        "\n",
        "\"\"\""
      ],
      "execution_count": 0,
      "outputs": []
    },
    {
      "cell_type": "code",
      "metadata": {
        "id": "oviTOLuL0rM4",
        "colab_type": "code",
        "colab": {}
      },
      "source": [
        "!pip install XlsxWriter"
      ],
      "execution_count": 0,
      "outputs": []
    },
    {
      "cell_type": "code",
      "metadata": {
        "id": "OKwvzTowTOIz",
        "colab_type": "code",
        "outputId": "48076ae0-b504-40fa-baaf-4aa946056586",
        "colab": {
          "base_uri": "https://localhost:8080/",
          "height": 34
        }
      },
      "source": [
        "#%%\n",
        "\n",
        "### Step 1: Load data and create masks\n",
        "import numpy as np\n",
        "import xlsxwriter\n",
        "\n",
        "def load_rating(fname, N=610, M=9725):\n",
        "    ''' load rating file with the format: UserID::MovieID::Rating::Timestamp\n",
        "    Can be used with MovieLens100K & MovieLens1M\n",
        "    Params:\n",
        "        - fname: file name\n",
        "        - N: number of users\n",
        "        - M: number of items (e.g. movies)\n",
        "    '''\n",
        "    R = np.zeros((N, M))    # Matrix of zeros of size (N, M)\n",
        "\n",
        "    movies_list = np.zeros(M)\n",
        "    idx = 0\n",
        "\n",
        "    with open(fname, 'r') as fin:\n",
        "        lines = fin.readlines()\n",
        "\n",
        "        for line in lines[1:]:\n",
        "            splt = line.strip().split(',')\n",
        "            if splt[0] != '':\n",
        "              uid = int(splt[0]) - 1\n",
        "              if splt[1] != '':\n",
        "                movie_id = int(splt[1])\n",
        "                if uid < 610:\n",
        "                  if movie_id in movies_list:\n",
        "                      mid = np.where(movies_list == movie_id)\n",
        "                  else:\n",
        "                      movies_list[idx] = movie_id\n",
        "                      mid = idx\n",
        "                      idx += 1\n",
        "\n",
        "                  r = float(splt[2])\n",
        "                  \n",
        "                  R[uid,mid] = r\n",
        "\n",
        "    print(R.shape)\n",
        "    return R\n",
        "    \n",
        "\n",
        "N = 610\n",
        "M = 9725\n",
        "# This number is the number of users and movies taken from the data base.\n",
        "\n",
        "data = load_rating(\"ratings.csv\", N, M)"
      ],
      "execution_count": 0,
      "outputs": [
        {
          "output_type": "stream",
          "text": [
            "(610, 9725)\n"
          ],
          "name": "stdout"
        }
      ]
    },
    {
      "cell_type": "code",
      "metadata": {
        "id": "pSwTnW-O1bPo",
        "colab_type": "code",
        "outputId": "09394440-d865-4e7e-c3c3-c89355ae2cba",
        "colab": {
          "base_uri": "https://localhost:8080/",
          "height": 136
        }
      },
      "source": [
        "workbook = xlsxwriter.Workbook('data_set.xlsx')\n",
        "worksheet = workbook.add_worksheet()\n",
        "row = 0\n",
        "col = 0\n",
        "\n",
        "for line in data:\n",
        "  col = 0\n",
        "  if row%100 == 0:\n",
        "    print(row)\n",
        "  for el in line:\n",
        "    worksheet.write(row, col, el)\n",
        "    col = col + 1\n",
        "  row = row + 1\n",
        "\n",
        "workbook.close()"
      ],
      "execution_count": 0,
      "outputs": [
        {
          "output_type": "stream",
          "text": [
            "0\n",
            "100\n",
            "200\n",
            "300\n",
            "400\n",
            "500\n",
            "600\n"
          ],
          "name": "stdout"
        }
      ]
    },
    {
      "cell_type": "code",
      "metadata": {
        "id": "_JxXw7Lligia",
        "colab_type": "code",
        "outputId": "cf4ab619-9e3c-40fc-9b31-bff520785075",
        "colab": {
          "base_uri": "https://localhost:8080/",
          "height": 232
        }
      },
      "source": [
        "#%%\n",
        "\n",
        "# In data, we've got the matrix coming from ratings.csv, \n",
        "#   which is a sparse one of dimension (610, 9725).\n",
        "\n",
        "from random import randint\n",
        "\n",
        "# create mask matrix\n",
        "def create_mask(X):\n",
        "    '''\n",
        "\n",
        "    :param X:\n",
        "    :return: Matrix of 1 and 0\n",
        "    '''\n",
        "    mask = X > 0\n",
        "    return mask.astype(int)\n",
        "\n",
        "def removes_entries_mask(mask, frac):\n",
        "    '''\n",
        "\n",
        "    :param data:\n",
        "    :param frac:\n",
        "    :return: Matrix of 1 and 0 depending on the removed entries\n",
        "    '''\n",
        "    matrix = np.random.choice([0, 1], size=(mask.shape), p=[frac, 1-frac])\n",
        "    mask = np.multiply(mask, matrix)\n",
        "    return mask.astype(int)\n",
        "\n",
        "data_test = data[:N, :M]\n",
        "\n",
        "# The next print are used to verify the number of entries of each data set.\n",
        "\n",
        "cnt_1 = 0\n",
        "for line in data_test:\n",
        "    for el_1 in line:\n",
        "        if el_1 != 0:\n",
        "            cnt_1 += 1\n",
        "\n",
        "print(\"Number of entries inside the matrix 'data_test' : \" + str(cnt_1))\n",
        "\n",
        "mask_data_set = create_mask(data_test)  #mask_data_set -> Based on the data set\n",
        "rmv_entries_mask = removes_entries_mask(mask_data_set, 1/10)\n",
        "data_train = np.multiply(data[:N, :M], rmv_entries_mask)\n",
        "mask_data_train = create_mask(data_train)  #mask_data_train -> Based on the data train\n",
        "# The data train possess less entries than the data test, therefore a mask needs to\n",
        "# be computed for each data set.\n",
        "\n",
        "cnt_2 = 0\n",
        "for line, linee in zip(data_train, data_test):\n",
        "    for el_1, el_2 in zip(line, linee):\n",
        "        if el_1 != el_2:\n",
        "            cnt_2 += 1\n",
        "\n",
        "print(\"Number of entries of the matrix 'data_train' different from the matrix 'data_test' : \" + str(cnt_2))\n",
        "\n",
        "print(\"Ratio between the removed entries and the number of entries : \" + str(cnt_2/cnt_1))\n",
        "\n",
        "cnt_3 = 0\n",
        "for line in mask_data_set:\n",
        "    for el_1 in line:\n",
        "        if el_1 != 0:\n",
        "            cnt_3 += 1\n",
        "\n",
        "print(\"Number of entries inside the matrix 'mask_data_test' : \" + str(cnt_3))\n",
        "\n",
        "cnt_4 = 0\n",
        "for line in mask_data_train:\n",
        "    for el_1 in line:\n",
        "        if el_1 != 0:\n",
        "            cnt_4 += 1\n",
        "\n",
        "print(\"Number of entries inside the matrix 'mask_data_train' : \" + str(cnt_4))"
      ],
      "execution_count": 3,
      "outputs": [
        {
          "output_type": "error",
          "ename": "NameError",
          "evalue": "ignored",
          "traceback": [
            "\u001b[0;31m---------------------------------------------------------------------------\u001b[0m",
            "\u001b[0;31mNameError\u001b[0m                                 Traceback (most recent call last)",
            "\u001b[0;32m<ipython-input-3-ea7e45523820>\u001b[0m in \u001b[0;36m<module>\u001b[0;34m()\u001b[0m\n\u001b[1;32m     27\u001b[0m     \u001b[0;32mreturn\u001b[0m \u001b[0mmask\u001b[0m\u001b[0;34m.\u001b[0m\u001b[0mastype\u001b[0m\u001b[0;34m(\u001b[0m\u001b[0mint\u001b[0m\u001b[0;34m)\u001b[0m\u001b[0;34m\u001b[0m\u001b[0;34m\u001b[0m\u001b[0m\n\u001b[1;32m     28\u001b[0m \u001b[0;34m\u001b[0m\u001b[0m\n\u001b[0;32m---> 29\u001b[0;31m \u001b[0mdata_test\u001b[0m \u001b[0;34m=\u001b[0m \u001b[0mdata\u001b[0m\u001b[0;34m[\u001b[0m\u001b[0;34m:\u001b[0m\u001b[0mN\u001b[0m\u001b[0;34m,\u001b[0m \u001b[0;34m:\u001b[0m\u001b[0mM\u001b[0m\u001b[0;34m]\u001b[0m\u001b[0;34m\u001b[0m\u001b[0;34m\u001b[0m\u001b[0m\n\u001b[0m\u001b[1;32m     30\u001b[0m \u001b[0;34m\u001b[0m\u001b[0m\n\u001b[1;32m     31\u001b[0m \u001b[0;34m\u001b[0m\u001b[0m\n",
            "\u001b[0;31mNameError\u001b[0m: name 'data' is not defined"
          ]
        }
      ]
    },
    {
      "cell_type": "code",
      "metadata": {
        "id": "3kDb8XuY1k5v",
        "colab_type": "code",
        "outputId": "6ebd8728-2964-48ce-ae22-ca2b6a81c1ca",
        "colab": {
          "base_uri": "https://localhost:8080/",
          "height": 136
        }
      },
      "source": [
        "workbook = xlsxwriter.Workbook('mask_data_set.xlsx')\n",
        "worksheet = workbook.add_worksheet()\n",
        "row = 0\n",
        "col = 0\n",
        "\n",
        "for line in mask_data_set:\n",
        "  col = 0\n",
        "  if row%100 == 0:\n",
        "    print(row)\n",
        "  for el in line:\n",
        "    worksheet.write(row, col, el)\n",
        "    col = col + 1\n",
        "  row = row + 1\n",
        "\n",
        "workbook.close()"
      ],
      "execution_count": 0,
      "outputs": [
        {
          "output_type": "stream",
          "text": [
            "0\n",
            "100\n",
            "200\n",
            "300\n",
            "400\n",
            "500\n",
            "600\n"
          ],
          "name": "stdout"
        }
      ]
    },
    {
      "cell_type": "code",
      "metadata": {
        "id": "O1uZGWH3poq3",
        "colab_type": "code",
        "colab": {}
      },
      "source": [
        "#%%\n",
        "# This part of the code remains unchanged from the lab\n",
        "\n",
        "### Step 2: Implement functions to calculate cost and gradients\n",
        "# This function computes the cost that we want to minimize\n",
        "def compute_cost(U, V, R, _lambda, mask):\n",
        "    # Equation 10 from\n",
        "    '''\n",
        "    Inputs:\n",
        "        U: A matrix contains users' feature\n",
        "        V: A matrix contains movies' feature\n",
        "        R: A matrix contains ground truth (size: n_movies x n_users)\n",
        "        _lambda: Regularization weight\n",
        "        mask: The binary mask matrix\n",
        "    Output:\n",
        "        loss: (scalar) the mean square error over known elements in R\n",
        "    '''\n",
        "    assert U.shape[1] == V.shape[1]\n",
        "    assert U.shape[0] == R.shape[0]\n",
        "    assert V.shape[0] == R.shape[1]\n",
        "    assert R.shape == mask.shape\n",
        "    numerator = (((np.matmul(U,V.T) - R)**2) * mask).sum()\n",
        "    return (0.5 * numerator / mask.sum() + 0.5 * _lambda * (U**2).sum()\n",
        "            + 0.5 * _lambda * (V**2).sum())\n",
        "\n",
        "\n",
        "# This function computes partial derivatives of the cost function w.r.t. movie and user features\n",
        "def compute_gradient(U, V, R, _lambda, mask):\n",
        "    '''\n",
        "    Inputs:\n",
        "        U: A matrix contains users' feature\n",
        "        V: A matrix contains movies' feature\n",
        "        R: A matrix contains ground truth (size: n_movies x n_users)\n",
        "        _lambda: Regularization weight\n",
        "        mask: The binary mask matrix\n",
        "    Output:\n",
        "        grad_U: gradients of the cost function w.r.t. U, must have the same shape as U\n",
        "        grad_V: gradients of the cost function w.r.t. U, must have the same shape as V\n",
        "    '''\n",
        "    assert U.shape[1] == V.shape[1]\n",
        "    assert U.shape[0] == R.shape[0]\n",
        "    assert V.shape[0] == R.shape[1]\n",
        "    assert R.shape == mask.shape\n",
        "    mul = np.matmul(U, V.T)\n",
        "    gradient_U = np.matmul((mul - R) * mask, V) + _lambda * U\n",
        "    gradient_V = np.matmul(((mul - R) * mask).T, U) + _lambda * V\n",
        "\n",
        "    return gradient_U, gradient_V\n"
      ],
      "execution_count": 0,
      "outputs": []
    },
    {
      "cell_type": "code",
      "metadata": {
        "id": "zu_enZyNpuze",
        "colab_type": "code",
        "outputId": "1bd06cb2-ff9f-43fe-dd0c-d74ec577b16a",
        "colab": {
          "base_uri": "https://localhost:8080/",
          "height": 459
        }
      },
      "source": [
        "#%%\n",
        "# In this part, the lambda, alpha and training_iterations has been modified after\n",
        "# some experiments to match obtain a satisfactory training\n",
        "\n",
        "import time\n",
        "t = time.time()\n",
        "### Step 3: Training\n",
        "n_features = 150\n",
        "# randomly initialize U and V\n",
        "U = 0.25 * np.random.randn(n_users, n_features)\n",
        "V = 0.25 * np.random.randn(n_movies, n_features)\n",
        "# regularization weight\n",
        "_lambda = 0.00005\n",
        "# learning rate\n",
        "alpha = 0.001\n",
        "# number of training iteration\n",
        "training_iterations = 250\n",
        "\n",
        "counter = 0\n",
        "while counter < training_iterations:\n",
        "    # perform one step of training\n",
        "    grad_U, grad_V = compute_gradient(U, V, data_train, _lambda, mask_data_train)\n",
        "\n",
        "    U = U - alpha * grad_U\n",
        "    V = V - alpha * grad_V\n",
        "\n",
        "    cost = compute_cost(U, V, data_train, _lambda, mask_data_train)\n",
        "    # increase counter\n",
        "    counter += 1\n",
        "    if counter % 10 == 0:\n",
        "        print(\"Iteration:\",counter,\"cost: \",cost)\n",
        "print(str(time.time() - t))"
      ],
      "execution_count": 0,
      "outputs": [
        {
          "output_type": "stream",
          "text": [
            "Iteration: 10 cost:  4.5623943090853025\n",
            "Iteration: 20 cost:  3.2691276469497383\n",
            "Iteration: 30 cost:  2.99202238132196\n",
            "Iteration: 40 cost:  2.883759022129001\n",
            "Iteration: 50 cost:  2.831142595835094\n",
            "Iteration: 60 cost:  2.802236605708085\n",
            "Iteration: 70 cost:  2.785089202607082\n",
            "Iteration: 80 cost:  2.774395299244973\n",
            "Iteration: 90 cost:  2.767501885963081\n",
            "Iteration: 100 cost:  2.7629636727679685\n",
            "Iteration: 110 cost:  2.759941952995736\n",
            "Iteration: 120 cost:  2.757926005278313\n",
            "Iteration: 130 cost:  2.7565927657357507\n",
            "Iteration: 140 cost:  2.7557314210472796\n",
            "Iteration: 150 cost:  2.755200778737052\n",
            "Iteration: 160 cost:  2.7549041650877846\n",
            "Iteration: 170 cost:  2.7547741348460653\n",
            "Iteration: 180 cost:  2.7547628822878645\n",
            "Iteration: 190 cost:  2.7548360711144566\n",
            "Iteration: 200 cost:  2.754968771520113\n",
            "Iteration: 210 cost:  2.755142728339054\n",
            "Iteration: 220 cost:  2.755344489088772\n",
            "Iteration: 230 cost:  2.755564099096284\n",
            "Iteration: 240 cost:  2.7557941777857122\n",
            "Iteration: 250 cost:  2.7560292556885195\n",
            "100.67795991897583\n"
          ],
          "name": "stdout"
        }
      ]
    },
    {
      "cell_type": "code",
      "metadata": {
        "id": "1_YdxGvCqsQY",
        "colab_type": "code",
        "colab": {}
      },
      "source": [
        "#%%\n",
        "\n",
        "# Step 4: Evaluation function\n",
        "def RMSE(A, B, mask):\n",
        "    ''' Root mean square error\n",
        "    '''\n",
        "    rmse = np.sqrt(np.sum(np.multiply(mask, np.square(A - B))) / np.sum(mask))\n",
        "    return rmse\n",
        "\n",
        "def MAE(A, B, mask):\n",
        "    ''' Mean absolute error\n",
        "    '''\n",
        "    mae = np.sum(np.multiply(mask, np.square(A - B))) / np.sum(mask)\n",
        "    return mae"
      ],
      "execution_count": 0,
      "outputs": []
    },
    {
      "cell_type": "code",
      "metadata": {
        "id": "wQRDuJs7qu48",
        "colab_type": "code",
        "outputId": "8018366a-1aad-45f4-8dae-8e13c4332046",
        "colab": {
          "base_uri": "https://localhost:8080/",
          "height": 119
        }
      },
      "source": [
        "#%%\n",
        "\n",
        "### Step 5: Evaluate the model\n",
        "# make prediction\n",
        "prediction = np.dot(U, V.T)\n",
        "\n",
        "# Compute RMSE and MAE on the training set\n",
        "\n",
        "print(\"RMSE_train: \", RMSE(data_train, prediction, mask_data_train))\n",
        "print(\"MAE_train: \", MAE(data_train, prediction, mask_data_train))\n",
        "\n",
        "# Compute RMSE and MAE on the testing set\n",
        "print(\"RMSE_test: \",RMSE(data_test, prediction, mask_data_set))\n",
        "print(\"MAE_test: \",MAE(data_test, prediction, mask_data_set))\n",
        "\n",
        "# To compute the validation, it is done only on the predictions of the matrix\n",
        "# factorization. To avoid evaluating the reconstruction of the data train.\n",
        "\n",
        "mask_prediction = mask_data_set - mask_data_train;\n",
        "\n",
        "# Compute RMSE and MAE on the testing set\n",
        "print(\"RMSE_prediction: \",RMSE(data_test, prediction, mask_prediction))\n",
        "print(\"MAE_prediction: \",MAE(data_test, prediction, mask_prediction))\n"
      ],
      "execution_count": 0,
      "outputs": [
        {
          "output_type": "stream",
          "text": [
            "RMSE_train:  0.08540715309085423\n",
            "MAE_train:  0.007294381799084612\n",
            "RMSE_test:  0.5554127550831367\n",
            "MAE_test:  0.30848332850904037\n",
            "RMSE_prediction:  1.7324116946934949\n",
            "MAE_prediction:  3.001250279910787\n"
          ],
          "name": "stdout"
        }
      ]
    },
    {
      "cell_type": "code",
      "metadata": {
        "id": "j9RwsumIr75o",
        "colab_type": "code",
        "outputId": "4bcc693a-f927-453f-d57d-83dedca60bea",
        "colab": {
          "base_uri": "https://localhost:8080/",
          "height": 255
        }
      },
      "source": [
        "import xlsxwriter\n",
        "\n",
        "workbook = xlsxwriter.Workbook('prediction.xlsx')\n",
        "worksheet = workbook.add_worksheet()\n",
        "row = 0\n",
        "col = 0\n",
        "\n",
        "for line in prediction:\n",
        "  col = 0\n",
        "  if row%100 == 0:\n",
        "    print(row)\n",
        "    print(line)\n",
        "  for el in line:\n",
        "    worksheet.write(col, row, el)\n",
        "    col = col + 1\n",
        "  row = row + 1\n",
        "\n",
        "workbook.close()\n"
      ],
      "execution_count": 0,
      "outputs": [
        {
          "output_type": "stream",
          "text": [
            "0\n",
            "[4.84736209 3.70927932 4.55980349 ... 1.80436184 2.13492027 1.05812267]\n",
            "100\n",
            "[4.0704561  3.00227169 3.87933075 ... 2.89589947 1.45280024 1.37953385]\n",
            "200\n",
            "[5.55482541 3.9733254  4.0074259  ... 2.55748091 1.66123339 1.76782399]\n",
            "300\n",
            "[3.84068147 2.24245704 3.02804476 ... 1.69745515 1.18250619 0.66788104]\n",
            "400\n",
            "[3.96328647 2.16042466 3.36248019 ... 2.29911203 1.39100853 1.51923238]\n",
            "500\n",
            "[3.93782857 3.79770557 3.27392604 ... 0.92641932 1.63389587 0.59942973]\n",
            "600\n",
            "[4.49609374 2.66641339 4.33837024 ... 1.83846937 2.45526097 0.75598333]\n"
          ],
          "name": "stdout"
        }
      ]
    },
    {
      "cell_type": "code",
      "metadata": {
        "id": "9zrJta0r91b5",
        "colab_type": "code",
        "outputId": "5d9e048c-316f-4dda-85c6-9bc994aaed2e",
        "colab": {
          "base_uri": "https://localhost:8080/",
          "height": 255
        }
      },
      "source": [
        "workbook = xlsxwriter.Workbook('prediction_mask.xlsx')\n",
        "worksheet = workbook.add_worksheet()\n",
        "row = 0\n",
        "col = 0\n",
        "\n",
        "prediction_mask = np.multiply(mask_data_set, prediction)\n",
        "\n",
        "for line in prediction_mask:\n",
        "  col = 0\n",
        "  if row%100 == 0:\n",
        "    print(row)\n",
        "    print(line)\n",
        "  for el in line:\n",
        "    worksheet.write(row, col, el)\n",
        "    col = col + 1\n",
        "  row = row + 1\n",
        "\n",
        "workbook.close()\n"
      ],
      "execution_count": 0,
      "outputs": [
        {
          "output_type": "stream",
          "text": [
            "0\n",
            "[4.84736209 3.70927932 4.55980349 ... 0.         0.         0.        ]\n",
            "100\n",
            "[0. 0. 0. ... 0. 0. 0.]\n",
            "200\n",
            "[5.55482541 0.         0.         ... 0.         0.         0.        ]\n",
            "300\n",
            "[0. 0. 0. ... 0. 0. 0.]\n",
            "400\n",
            "[3.96328647 0.         0.         ... 0.         0.         0.        ]\n",
            "500\n",
            "[0.         3.79770557 3.27392604 ... 0.         0.         0.        ]\n",
            "600\n",
            "[4.49609374 0.         0.         ... 0.         0.         0.        ]\n"
          ],
          "name": "stdout"
        }
      ]
    }
  ]
}